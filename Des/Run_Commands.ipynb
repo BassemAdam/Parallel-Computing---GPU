{
 "cells": [
  {
   "cell_type": "markdown",
   "metadata": {},
   "source": [
    "# DES CUDA Application\n",
    "\n",
    "## Usage\n",
    "\n",
    "```\n",
    "./des_cuda <encrypt|decrypt> <input_file> <output_file>\n",
    "```\n",
    "\n",
    "Where:\n",
    "- `encrypt|decrypt`: Mode of operation ('encrypt' to encrypt the input file, 'decrypt' to decrypt it)\n",
    "- `input_file`: Path to the file to be encrypted/decrypted\n",
    "- `output_file`: Path where the encrypted/decrypted output will be saved\n",
    "\n",
    "---"
   ]
  },
  {
   "cell_type": "code",
   "execution_count": 24,
   "metadata": {},
   "outputs": [],
   "source": [
    "def compile_and_run_kernel(kernel_number, mode, input_file_name, output_file_name=None, analytics=False):\n",
    "    import os\n",
    "    \n",
    "    # Get current working directory\n",
    "    cwd = os.getcwd()\n",
    "    print(f\"Current working directory: {cwd}\")\n",
    "    # Create paths\n",
    "    kernel_src = os.path.join(cwd, f\"cuda_kernels/kernel_{kernel_number}.cu\")\n",
    "    kernel_exe = os.path.join(cwd, f\"cuda_kernels/bin/kernel{kernel_number}.exe\")\n",
    "    \n",
    "    # Ensure input and output file paths are correct\n",
    "    input_file = os.path.join(cwd, f\"Input_Files/{input_file_name}.txt\")\n",
    "    if output_file_name is None:\n",
    "        if mode == \"encrypt\":\n",
    "            output_file_name = f\"{input_file_name}_encrypted\"\n",
    "        else:  # decrypt mode\n",
    "            output_file_name = f\"{input_file_name}_decrypted\"\n",
    "    output_file = os.path.join(cwd, f\"Input_Files/{output_file_name}.txt\")\n",
    "    \n",
    "    # Create bin directory if it doesn't exist\n",
    "    os.makedirs(os.path.dirname(kernel_exe), exist_ok=True)\n",
    "    # Create output directory if it doesn't exist\n",
    "    os.makedirs(os.path.dirname(output_file), exist_ok=True)\n",
    "    \n",
    "    # Compile\n",
    "    !nvcc \"{kernel_src}\" -o \"{kernel_exe}\"\n",
    "    \n",
    "    # Run with analytics if requested, otherwise run normally\n",
    "    if analytics:\n",
    "        # Create analytics_Bin directory if it doesn't exist\n",
    "        analytics_dir = os.path.join(cwd, \"analytics_Bin\")\n",
    "        os.makedirs(analytics_dir, exist_ok=True)\n",
    "        \n",
    "        # Set profile output path inside analytics_Bin folder\n",
    "        profile_output = os.path.join(analytics_dir, f\"profile_{input_file_name}_{mode}\")\n",
    "        \n",
    "        # Run with nsys profiling\n",
    "        !nsys profile --sample=none --trace=cuda --force-overwrite=true --stats=true --output=\"{profile_output}\" \"{kernel_exe}\" \"{mode}\" \"{input_file}\" \"{output_file}\"\n",
    "        print(f\"Analytics data saved to {profile_output}\")\n",
    "    else:\n",
    "        # Run normally\n",
    "        !\"{kernel_exe}\" \"{mode}\" \"{input_file}\" \"{output_file}\"\n",
    "    \n",
    "    print(f\"{mode.capitalize()}ed file saved to {output_file}\")\n",
    "    return output_file\n",
    "\n",
    "# Example usage:\n",
    "# output = compile_and_run_kernel(\"DES\", \"encrypt\", \"plaintext\", analytics=True)"
   ]
  },
  {
   "cell_type": "code",
   "execution_count": null,
   "metadata": {},
   "outputs": [],
   "source": [
    "import numpy as np\n",
    "import os\n",
    "import time\n",
    "\n",
    "def compare_output_files(expected_file, actual_file, tolerance=1e-5, verbose=False):\n",
    "    \"\"\"\n",
    "    Compare the output values in two text files to check if they're identical within a tolerance range.\n",
    "    \n",
    "    Parameters:\n",
    "    - expected_file: Path to the file containing expected values\n",
    "    - actual_file: Path to the file containing actual values from your implementation\n",
    "    - tolerance: Maximum allowed difference between corresponding values\n",
    "    - verbose: Whether to print details about the comparison\n",
    "    \n",
    "    Returns:\n",
    "    - True if files match within tolerance, False otherwise\n",
    "    \"\"\"\n",
    "    try:\n",
    "        # Read expected output\n",
    "        with open(expected_file, 'r') as f:\n",
    "            expected_content = f.read().strip()\n",
    "            expected_values = np.array([float(x) for x in expected_content.split()])\n",
    "        \n",
    "        # Read actual output\n",
    "        with open(actual_file, 'r') as f:\n",
    "            actual_content = f.read().strip()\n",
    "            actual_values = np.array([float(x) for x in actual_content.split()])\n",
    "        \n",
    "        # Check if arrays have the same length\n",
    "        if len(expected_values) != len(actual_values):\n",
    "            print(f\"❌ FAIL: Output files have different lengths! Expected: {len(expected_values)}, Actual: {len(actual_values)}\")\n",
    "            return False\n",
    "        \n",
    "        # Calculate absolute differences\n",
    "        diff = np.abs(expected_values - actual_values)\n",
    "        max_diff = np.max(diff)\n",
    "        mean_diff = np.mean(diff)\n",
    "        \n",
    "        # Check if values match within tolerance\n",
    "        match = np.allclose(expected_values, actual_values, rtol=0, atol=tolerance)\n",
    "        \n",
    "        if match:\n",
    "            print(f\"✅ PASS: Output values match within tolerance {tolerance}\")\n",
    "            if verbose:\n",
    "                print(f\"  - Maximum difference: {max_diff:.8e}\")\n",
    "                print(f\"  - Average difference: {mean_diff:.8e}\")\n",
    "        else:\n",
    "            print(f\"❌ FAIL: Output values differ by more than tolerance {tolerance}\")\n",
    "            print(f\"  - Maximum difference: {max_diff:.8e}\")\n",
    "            print(f\"  - Average difference: {mean_diff:.8e}\")\n",
    "            \n",
    "            if verbose:\n",
    "                # Find and print the first few mismatched elements\n",
    "                mismatched_indices = np.where(diff > tolerance)[0]\n",
    "                print(f\"  - Found {len(mismatched_indices)} mismatched values\")\n",
    "                for i in range(min(5, len(mismatched_indices))):\n",
    "                    idx = mismatched_indices[i]\n",
    "                    print(f\"  - Index {idx}: Expected {expected_values[idx]:.8f}, Actual {actual_values[idx]:.8f}, Diff {diff[idx]:.8e}\")\n",
    "        \n",
    "        return match\n",
    "    \n",
    "    except Exception as e:\n",
    "        print(f\"❌ FAIL: Error during comparison: {str(e)}\")\n",
    "        return False\n",
    "\n",
    "# Example usage:\n",
    "def verify_kernel_output(kernel_num, input_base, mask_base):\n",
    "    \"\"\"\n",
    "    Verify the output of a kernel against the expected output.\n",
    "    \n",
    "    Parameters:\n",
    "    - kernel_num: Kernel number (1, 2, or 3)\n",
    "    - input_base: Base filename for input (without extension)\n",
    "    - mask_base: Base filename for mask (without extension)\n",
    "    \"\"\"\n",
    "\n",
    "    # Construct file paths\n",
    "    base_path = \"./Generator_TestCases/Convolution/\"\n",
    "    expected_file = f\"{base_path}{input_base}_expected_output.txt\"\n",
    "    actual_file = f\"./Output_TestCases/{input_base}_input_mask{mask_base}_k{kernel_num}_o.txt\"\n",
    "\n",
    "    print(f\"Verifying kernel {kernel_num} output...\")\n",
    "    # Run comparison\n",
    "    result = compare_output_files(expected_file, actual_file, tolerance=1e-1, verbose=True)\n",
    "    return result\n",
    "\n",
    "# Example: verify_kernel_output(1, \"conv_v1000_m3_input\", \"conv_v1000_m3_mask\")"
   ]
  },
  {
   "cell_type": "markdown",
   "metadata": {},
   "source": [
    "### **DES Encryption and Decryption**\n",
    "\n",
    "The following examples demonstrate the DES encryption and decryption functionality."
   ]
  },
  {
   "cell_type": "code",
   "execution_count": 31,
   "metadata": {},
   "outputs": [
    {
     "name": "stdout",
     "output_type": "stream",
     "text": [
      "Current working directory: e:\\02_Learn\\01_University\\Senior-1 Spring\\Current\\Parallel Computing\\Labs\\Des\n",
      "kernel_DES.cu\n",
      "tmpxft_0000662c_00000000-10_kernel_DES.cudafe1.cpp\n",
      "   Creating library e:\\02_Learn\\01_University\\Senior-1 Spring\\Current\\Parallel Computing\\Labs\\Des\\cuda_kernels\\bin\\kernelDES.lib and object e:\\02_Learn\\01_University\\Senior-1 Spring\\Current\\Parallel Computing\\Labs\\Des\\cuda_kernels\\bin\\kernelDES.exp\n",
      "Decrypting 230 blocks with 256 threads in 1 cuda blocks...Decrypted file saved to e:\\02_Learn\\01_University\\Senior-1 Spring\\Current\\Parallel Computing\\Labs\\Des\\Input_Files/plaintext0_encrypted_decrypted.txt\n"
     ]
    },
    {
     "data": {
      "text/plain": [
       "'e:\\\\02_Learn\\\\01_University\\\\Senior-1 Spring\\\\Current\\\\Parallel Computing\\\\Labs\\\\Des\\\\Input_Files/plaintext0_encrypted_decrypted.txt'"
      ]
     },
     "execution_count": 31,
     "metadata": {},
     "output_type": "execute_result"
    },
    {
     "name": "stdout",
     "output_type": "stream",
     "text": [
      "\n",
      "Decryption complete. Output written to e:\\02_Learn\\01_University\\Senior-1 Spring\\Current\\Parallel Computing\\Labs\\Des\\Input_Files/plaintext0_encrypted_decrypted.txt\n"
     ]
    }
   ],
   "source": [
    "# Example 1: Encrypt a plaintext file\n",
    "# compile_and_run_kernel(\"DES\", \"encrypt\", \"plaintext0\", analytics=False)\n",
    "\n",
    "# Example 2: Decrypt the encrypted file\n",
    "compile_and_run_kernel(\"DES\", \"decrypt\", \"plaintext0_encrypted\", analytics=False)"
   ]
  },
  {
   "cell_type": "markdown",
   "metadata": {},
   "source": [
    "### **Performance Analysis**\n",
    "\n",
    "Run with analytics to profile the encryption and decryption performance."
   ]
  },
  {
   "cell_type": "code",
   "execution_count": null,
   "metadata": {},
   "outputs": [],
   "source": [
    "# Profile encryption performance on a larger file\n",
    "compile_and_run_kernel(\"DES\", \"encrypt\", \"large_plaintext\", analytics=True)\n",
    "\n",
    "# Profile decryption performance\n",
    "compile_and_run_kernel(\"DES\", \"decrypt\", \"large_plaintext_encrypted\", analytics=True)"
   ]
  },
  {
   "cell_type": "markdown",
   "metadata": {},
   "source": [
    "### **Round-trip Test**\n",
    "\n",
    "Test that encrypting and then decrypting a file recovers the original content."
   ]
  },
  {
   "cell_type": "code",
   "execution_count": null,
   "metadata": {},
   "outputs": [],
   "source": [
    "def run_round_trip_test(kernel_number, input_file_name):\n",
    "    import os\n",
    "    import filecmp\n",
    "    \n",
    "    print(f\"Running round-trip test on {input_file_name}...\")\n",
    "    \n",
    "    # First encrypt the input file\n",
    "    encrypted_file = compile_and_run_kernel(kernel_number, \"encrypt\", input_file_name)\n",
    "    \n",
    "    # Then decrypt the encrypted file\n",
    "    decrypted_file = compile_and_run_kernel(kernel_number, \"decrypt\", f\"{input_file_name}_encrypted\", f\"{input_file_name}_round_trip\")\n",
    "    \n",
    "    # Compare the original input with the decrypted output\n",
    "    cwd = os.getcwd()\n",
    "    original_file = os.path.join(cwd, f\"Input_Files/{input_file_name}.txt\")\n",
    "    decrypted_output = os.path.join(cwd, f\"Output_Files/{input_file_name}_round_trip.txt\")\n",
    "    \n",
    "    if os.path.exists(original_file) and os.path.exists(decrypted_output):\n",
    "        if filecmp.cmp(original_file, decrypted_output):\n",
    "            print(\"✅ PASS: Round-trip test successful! Decrypted file matches the original.\")\n",
    "        else:\n",
    "            print(\"❌ FAIL: Round-trip test failed. Decrypted file differs from the original.\")\n",
    "    else:\n",
    "        print(\"❌ FAIL: One or both files don't exist.\")\n",
    "\n",
    "# Run the round-trip test\n",
    "run_round_trip_test(\"DES\", \"plaintext0\")"
   ]
  }
 ],
 "metadata": {
  "colab": {
   "provenance": []
  },
  "kaggle": {
   "accelerator": "gpu",
   "dataSources": [],
   "dockerImageVersionId": 30887,
   "isGpuEnabled": true,
   "isInternetEnabled": true,
   "language": "python",
   "sourceType": "notebook"
  },
  "kernelspec": {
   "display_name": "base",
   "language": "python",
   "name": "python3"
  },
  "language_info": {
   "codemirror_mode": {
    "name": "ipython",
    "version": 3
   },
   "file_extension": ".py",
   "mimetype": "text/x-python",
   "name": "python",
   "nbconvert_exporter": "python",
   "pygments_lexer": "ipython3",
   "version": "3.12.3"
  }
 },
 "nbformat": 4,
 "nbformat_minor": 4
}

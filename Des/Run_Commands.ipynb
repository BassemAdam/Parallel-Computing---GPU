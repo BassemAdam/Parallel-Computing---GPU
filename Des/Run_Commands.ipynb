{
 "cells": [
  {
   "cell_type": "markdown",
   "metadata": {},
   "source": [
    "# DES CUDA Application\n",
    "\n",
    "## Usage\n",
    "\n",
    "```\n",
    "./des_cuda <encrypt|decrypt> <input_file> <output_file>\n",
    "```\n",
    "\n",
    "Where:\n",
    "- `encrypt|decrypt`: Mode of operation ('encrypt' to encrypt the input file, 'decrypt' to decrypt it)\n",
    "- `input_file`: Path to the file to be encrypted/decrypted\n",
    "- `output_file`: Path where the encrypted/decrypted output will be saved\n",
    "\n",
    "---\n",
    "**BUT to make it easier i have created a funtion called compiler_and_run_kernel this function takes only name of the file inside code folder to run , mode ,inputfileName**"
   ]
  },
  {
   "cell_type": "markdown",
   "metadata": {},
   "source": [
    "Cpu Implementation"
   ]
  },
  {
   "cell_type": "code",
   "execution_count": 4,
   "metadata": {},
   "outputs": [
    {
     "name": "stdout",
     "output_type": "stream",
     "text": [
      "Current working directory: e:\\02_Learn\\01_University\\Senior-1 Spring\\Current\\Parallel Computing\\Labs\\Des\n",
      "Cpu_DES.cu\n",
      "tmpxft_0000085c_00000000-10_Cpu_DES.cudafe1.cpp\n",
      "   Creating library e:\\02_Learn\\01_University\\Senior-1 Spring\\Current\\Parallel Computing\\Labs\\Des\\code\\bin\\Cpu_DES.lib and object e:\\02_Learn\\01_University\\Senior-1 Spring\\Current\\Parallel Computing\\Labs\\Des\\code\\bin\\Cpu_DES.exp\n",
      "Encrypting 230 blocks...\n",
      "Time taken: 2.00 milliseconds\n",
      "Encryption complete. Output written to e:\\02_Learn\\01_University\\Senior-1 Spring\\Current\\Parallel Computing\\Labs\\Des\\Input_Files/plaintext0_encrypted.txt\n",
      "Encrypted file saved to e:\\02_Learn\\01_University\\Senior-1 Spring\\Current\\Parallel Computing\\Labs\\Des\\Input_Files/plaintext0_encrypted.txt\n"
     ]
    },
    {
     "data": {
      "text/plain": [
       "'e:\\\\02_Learn\\\\01_University\\\\Senior-1 Spring\\\\Current\\\\Parallel Computing\\\\Labs\\\\Des\\\\Input_Files/plaintext0_encrypted.txt'"
      ]
     },
     "execution_count": 4,
     "metadata": {},
     "output_type": "execute_result"
    }
   ],
   "source": [
    "compile_and_run_kernel(\"Cpu_DES\", \"encrypt\", \"plaintext0\")\n",
    "\n",
    "#compile_and_run_kernel(\"Cpu_DES\", \"decrypt\", \"plaintext0_encrypted\")"
   ]
  },
  {
   "cell_type": "markdown",
   "metadata": {},
   "source": [
    "### **DES Encryption and Decryption**\n",
    "\n",
    "The following examples demonstrate the DES encryption and decryption functionality."
   ]
  },
  {
   "cell_type": "code",
   "execution_count": null,
   "metadata": {},
   "outputs": [
    {
     "name": "stdout",
     "output_type": "stream",
     "text": [
      "Current working directory: e:\\02_Learn\\01_University\\Senior-1 Spring\\Current\\Parallel Computing\\Labs\\Des\n",
      "kernel_DES.cu\n",
      "tmpxft_000019f0_00000000-10_kernel_DES.cudafe1.cpp\n",
      "   Creating library e:\\02_Learn\\01_University\\Senior-1 Spring\\Current\\Parallel Computing\\Labs\\Des\\code\\bin\\kernel_DES.lib and object e:\\02_Learn\\01_University\\Senior-1 Spring\\Current\\Parallel Computing\\Labs\\Des\\code\\bin\\kernel_DES.exp\n",
      "Collecting data...\n",
      "Generating 'C:\\Users\\basim\\AppData\\Local\\Temp\\nsys-report-7842.qdstrm'\n",
      "\n",
      "[1/6] [0%                          ] profile_plaintext0_encrypt.nsys-rep\n",
      "[1/6] [0%                          ] profile_plaintext0_encrypt.nsys-rep\n",
      "[1/6] [==========49%               ] profile_plaintext0_encrypt.nsys-rep\n",
      "[1/6] [===========50%              ] profile_plaintext0_encrypt.nsys-rep\n",
      "[1/6] [============55%             ] profile_plaintext0_encrypt.nsys-rep\n",
      "[1/6] [========================100%] profile_plaintext0_encrypt.nsys-rep\n",
      "[1/6] [========================100%] profile_plaintext0_encrypt.nsys-rep\n",
      "\n",
      "[2/6] [0%                          ] profile_plaintext0_encrypt.sqlite\n",
      "[2/6] [1%                          ] profile_plaintext0_encrypt.sqlite\n",
      "[2/6] [3%                          ] profile_plaintext0_encrypt.sqlite\n",
      "[2/6] [4%                          ] profile_plaintext0_encrypt.sqlite\n",
      "[2/6] [6%                          ] profile_plaintext0_encrypt.sqlite\n",
      "[2/6] [7%                          ] profile_plaintext0_encrypt.sqlite\n",
      "[2/6] [9%                          ] profile_plaintext0_encrypt.sqlite\n",
      "[2/6] [10%                         ] profile_plaintext0_encrypt.sqlite\n",
      "[2/6] [12%                         ] profile_plaintext0_encrypt.sqlite\n",
      "[2/6] [14%                         ] profile_plaintext0_encrypt.sqlite\n",
      "[2/6] [=15%                        ] profile_plaintext0_encrypt.sqlite\n",
      "[2/6] [=17%                        ] profile_plaintext0_encrypt.sqlite\n",
      "[2/6] [==18%                       ] profile_plaintext0_encrypt.sqlite\n",
      "[2/6] [==20%                       ] profile_plaintext0_encrypt.sqlite\n",
      "[2/6] [==21%                       ] profile_plaintext0_encrypt.sqlite\n",
      "[2/6] [===23%                      ] profile_plaintext0_encrypt.sqlite\n",
      "[2/6] [====25%                     ] profile_plaintext0_encrypt.sqlite\n",
      "[2/6] [====26%                     ] profile_plaintext0_encrypt.sqlite\n",
      "[2/6] [====28%                     ] profile_plaintext0_encrypt.sqlite\n",
      "[2/6] [=====29%                    ] profile_plaintext0_encrypt.sqlite\n",
      "[2/6] [=====31%                    ] profile_plaintext0_encrypt.sqlite\n",
      "[2/6] [=====32%                    ] profile_plaintext0_encrypt.sqlite\n",
      "[2/6] [======34%                   ] profile_plaintext0_encrypt.sqlite\n",
      "[2/6] [======35%                   ] profile_plaintext0_encrypt.sqlite\n",
      "[2/6] [=======37%                  ] profile_plaintext0_encrypt.sqlite\n",
      "[2/6] [=======39%                  ] profile_plaintext0_encrypt.sqlite\n",
      "[2/6] [========40%                 ] profile_plaintext0_encrypt.sqlite\n",
      "[2/6] [========42%                 ] profile_plaintext0_encrypt.sqlite\n",
      "[2/6] [=========43%                ] profile_plaintext0_encrypt.sqlite\n",
      "[2/6] [=========45%                ] profile_plaintext0_encrypt.sqlite\n",
      "[2/6] [=========46%                ] profile_plaintext0_encrypt.sqlite\n",
      "[2/6] [==========48%               ] profile_plaintext0_encrypt.sqlite\n",
      "[2/6] [===========50%              ] profile_plaintext0_encrypt.sqlite\n",
      "[2/6] [===========51%              ] profile_plaintext0_encrypt.sqlite\n",
      "[2/6] [===========53%              ] profile_plaintext0_encrypt.sqlite\n",
      "[2/6] [============54%             ] profile_plaintext0_encrypt.sqlite\n",
      "[2/6] [============56%             ] profile_plaintext0_encrypt.sqlite\n",
      "[2/6] [============57%             ] profile_plaintext0_encrypt.sqlite\n",
      "[2/6] [=============59%            ] profile_plaintext0_encrypt.sqlite\n",
      "[2/6] [=============60%            ] profile_plaintext0_encrypt.sqlite\n",
      "[2/6] [==============62%           ] profile_plaintext0_encrypt.sqlite\n",
      "[2/6] [==============64%           ] profile_plaintext0_encrypt.sqlite\n",
      "[2/6] [===============65%          ] profile_plaintext0_encrypt.sqlite\n",
      "[2/6] [===============67%          ] profile_plaintext0_encrypt.sqlite\n",
      "[2/6] [================68%         ] profile_plaintext0_encrypt.sqlite\n",
      "[2/6] [================70%         ] profile_plaintext0_encrypt.sqlite\n",
      "[2/6] [================71%         ] profile_plaintext0_encrypt.sqlite\n",
      "[2/6] [=================73%        ] profile_plaintext0_encrypt.sqlite\n",
      "[2/6] [==================75%       ] profile_plaintext0_encrypt.sqlite\n",
      "[2/6] [==================76%       ] profile_plaintext0_encrypt.sqlite\n",
      "[2/6] [==================78%       ] profile_plaintext0_encrypt.sqlite\n",
      "[2/6] [===================79%      ] profile_plaintext0_encrypt.sqlite\n",
      "[2/6] [===================81%      ] profile_plaintext0_encrypt.sqlite\n",
      "[2/6] [===================82%      ] profile_plaintext0_encrypt.sqlite\n",
      "[2/6] [====================84%     ] profile_plaintext0_encrypt.sqlite\n",
      "[2/6] [====================85%     ] profile_plaintext0_encrypt.sqlite\n",
      "[2/6] [=====================87%    ] profile_plaintext0_encrypt.sqlite\n",
      "[2/6] [=====================89%    ] profile_plaintext0_encrypt.sqlite\n",
      "[2/6] [======================90%   ] profile_plaintext0_encrypt.sqlite\n",
      "[2/6] [======================92%   ] profile_plaintext0_encrypt.sqlite\n",
      "[2/6] [=======================93%  ] profile_plaintext0_encrypt.sqlite\n",
      "[2/6] [=======================95%  ] profile_plaintext0_encrypt.sqlite\n",
      "[2/6] [=======================96%  ] profile_plaintext0_encrypt.sqlite\n",
      "[2/6] [========================98% ] profile_plaintext0_encrypt.sqlite\n",
      "[2/6] [========================100%] profile_plaintext0_encrypt.sqlite\n",
      "[2/6] [========================100%] profile_plaintext0_encrypt.sqlite\n",
      "[3/6] Executing 'cuda_api_sum' stats report\n",
      "\n",
      " Time (%)  Total Time (ns)  Num Calls   Avg (ns)     Med (ns)    Min (ns)   Max (ns)   StdDev (ns)           Name         \n",
      " --------  ---------------  ---------  -----------  -----------  ---------  ---------  -----------  ----------------------\n",
      "     98.2        199424372          1  199424372.0  199424372.0  199424372  199424372          0.0  cudaMemcpyToSymbol    \n",
      "      0.8          1593801          1    1593801.0    1593801.0    1593801    1593801          0.0  cudaLaunchKernel      \n",
      "      0.4           739886          2     369943.0     369943.0      49483     690403     453198.9  cudaFree              \n",
      "      0.3           609832          1     609832.0     609832.0     609832     609832          0.0  cuLibraryUnload       \n",
      "      0.2           400957          2     200478.5     200478.5      17144     383813     259274.1  cudaMalloc            \n",
      "      0.1           299890          2     149945.0     149945.0      59597     240293     127771.4  cudaMemcpy            \n",
      "      0.0             8957          1       8957.0       8957.0       8957       8957          0.0  cuCtxSynchronize      \n",
      "      0.0             5621          1       5621.0       5621.0       5621       5621          0.0  cuModuleGetLoadingMode\n",
      "      0.0              560          1        560.0        560.0        560        560          0.0  cuDeviceGetLuid       \n",
      "\n",
      "[4/6] Executing 'cuda_gpu_kern_sum' stats report\n",
      "\n",
      " Time (%)  Total Time (ns)  Instances  Avg (ns)  Med (ns)  Min (ns)  Max (ns)  StdDev (ns)                                            Name                                          \n",
      " --------  ---------------  ---------  --------  --------  --------  --------  -----------  ----------------------------------------------------------------------------------------\n",
      "    100.0            27809          1   27809.0   27809.0     27809     27809          0.0  des_encrypt_kernel(const unsigned long long *, unsigned long long *, unsigned long long)\n",
      "\n",
      "[5/6] Executing 'cuda_gpu_mem_time_sum' stats report\n",
      "\n",
      " Time (%)  Total Time (ns)  Count  Avg (ns)  Med (ns)  Min (ns)  Max (ns)  StdDev (ns)           Operation          \n",
      " --------  ---------------  -----  --------  --------  --------  --------  -----------  ----------------------------\n",
      "     52.1             1568      2     784.0     784.0       352      1216        610.9  [CUDA memcpy Host-to-Device]\n",
      "     47.9             1440      1    1440.0    1440.0      1440      1440          0.0  [CUDA memcpy Device-to-Host]\n",
      "\n",
      "[6/6] Executing 'cuda_gpu_mem_size_sum' stats report\n",
      "\n",
      " Total (MB)  Count  Avg (MB)  Med (MB)  Min (MB)  Max (MB)  StdDev (MB)           Operation          \n",
      " ----------  -----  --------  --------  --------  --------  -----------  ----------------------------\n",
      "      0.002      2     0.001     0.001     0.000     0.002        0.001  [CUDA memcpy Host-to-Device]\n",
      "      0.002      1     0.002     0.002     0.002     0.002        0.000  [CUDA memcpy Device-to-Host]\n",
      "\n",
      "Generated:\n",
      "    e:\\02_Learn\\01_University\\Senior-1 Spring\\Current\\Parallel Computing\\Labs\\Des\\analytics_Bin\\profile_plaintext0_encrypt.nsys-rep\n",
      "    e:\\02_Learn\\01_University\\Senior-1 Spring\\Current\\Parallel Computing\\Labs\\Des\\analytics_Bin\\profile_plaintext0_encrypt.sqlite\n",
      "Analytics data saved to e:\\02_Learn\\01_University\\Senior-1 Spring\\Current\\Parallel Computing\\Labs\\Des\\analytics_Bin\\profile_plaintext0_encrypt\n",
      "Encrypted file saved to e:\\02_Learn\\01_University\\Senior-1 Spring\\Current\\Parallel Computing\\Labs\\Des\\Input_Files/plaintext0_encrypted.txt\n",
      "Current working directory: e:\\02_Learn\\01_University\\Senior-1 Spring\\Current\\Parallel Computing\\Labs\\Des\n"
     ]
    },
    {
     "name": "stderr",
     "output_type": "stream",
     "text": [
      "WARNING: CPU context switches trace requires administrative privileges, disabling.\n"
     ]
    },
    {
     "name": "stdout",
     "output_type": "stream",
     "text": [
      "kernel_DES.cu\n",
      "tmpxft_000054fc_00000000-10_kernel_DES.cudafe1.cpp\n",
      "   Creating library e:\\02_Learn\\01_University\\Senior-1 Spring\\Current\\Parallel Computing\\Labs\\Des\\code\\bin\\kernel_DES.lib and object e:\\02_Learn\\01_University\\Senior-1 Spring\\Current\\Parallel Computing\\Labs\\Des\\code\\bin\\kernel_DES.exp\n",
      "Decrypting 230 blocks with 256 threads in 1 cuda blocks...\n",
      "Decryption complete. Output written to e:\\02_Learn\\01_University\\Senior-1 Spring\\Current\\Parallel Computing\\Labs\\Des\\Input_Files/plaintext0_encrypted_decrypted.txt\n",
      "Decrypted file saved to e:\\02_Learn\\01_University\\Senior-1 Spring\\Current\\Parallel Computing\\Labs\\Des\\Input_Files/plaintext0_encrypted_decrypted.txt\n"
     ]
    },
    {
     "data": {
      "text/plain": [
       "'e:\\\\02_Learn\\\\01_University\\\\Senior-1 Spring\\\\Current\\\\Parallel Computing\\\\Labs\\\\Des\\\\Input_Files/plaintext0_encrypted_decrypted.txt'"
      ]
     },
     "execution_count": 3,
     "metadata": {},
     "output_type": "execute_result"
    }
   ],
   "source": [
    "# Example 1: Encrypt a plaintext file\n",
    "compile_and_run_kernel(\"kernel_DES\", \"encrypt\", \"plaintext0\", analytics=True)\n",
    "\n",
    "# Example 2: Decrypt the encrypted file\n",
    "compile_and_run_kernel(\"kernel_DES\", \"decrypt\", \"plaintext0_encrypted\", analytics=False)\n",
    "# streams + ctr code bock + key generation parallel "
   ]
  },
  {
   "cell_type": "markdown",
   "metadata": {},
   "source": [
    "### **Performance Analysis**\n",
    "\n",
    "Run with analytics to profile the encryption and decryption performance."
   ]
  },
  {
   "cell_type": "code",
   "execution_count": 2,
   "metadata": {},
   "outputs": [
    {
     "name": "stdout",
     "output_type": "stream",
     "text": [
      "Current working directory: e:\\02_Learn\\01_University\\Senior-1 Spring\\Current\\Parallel Computing\\Labs\\Des\n",
      "DES.cu\n"
     ]
    },
    {
     "name": "stderr",
     "output_type": "stream",
     "text": [
      "c1xx: fatal error C1083: Cannot open source file: 'e:\\02_Learn\\01_University\\Senior-1 Spring\\Current\\Parallel Computing\\Labs\\Des\\code\\DES.cu': No such file or directory\n"
     ]
    },
    {
     "name": "stdout",
     "output_type": "stream",
     "text": [
      "Analytics data saved to e:\\02_Learn\\01_University\\Senior-1 Spring\\Current\\Parallel Computing\\Labs\\Des\\analytics_Bin\\profile_large_plaintext_encrypt\n",
      "Encrypted file saved to e:\\02_Learn\\01_University\\Senior-1 Spring\\Current\\Parallel Computing\\Labs\\Des\\Input_Files/large_plaintext_encrypted.txt\n",
      "Current working directory: e:\\02_Learn\\01_University\\Senior-1 Spring\\Current\\Parallel Computing\\Labs\\Des\n"
     ]
    },
    {
     "name": "stderr",
     "output_type": "stream",
     "text": [
      "WARNING: CPU context switches trace requires administrative privileges, disabling.\n",
      "Executable not found in current directory or standard search paths\n",
      "c1xx: fatal error C1083: Cannot open source file: 'e:\\02_Learn\\01_University\\Senior-1 Spring\\Current\\Parallel Computing\\Labs\\Des\\code\\DES.cu': No such file or directory\n"
     ]
    },
    {
     "name": "stdout",
     "output_type": "stream",
     "text": [
      "DES.cu\n",
      "Analytics data saved to e:\\02_Learn\\01_University\\Senior-1 Spring\\Current\\Parallel Computing\\Labs\\Des\\analytics_Bin\\profile_large_plaintext_encrypted_decrypt\n",
      "Decrypted file saved to e:\\02_Learn\\01_University\\Senior-1 Spring\\Current\\Parallel Computing\\Labs\\Des\\Input_Files/large_plaintext_encrypted_decrypted.txt\n"
     ]
    },
    {
     "name": "stderr",
     "output_type": "stream",
     "text": [
      "WARNING: CPU context switches trace requires administrative privileges, disabling.\n",
      "Executable not found in current directory or standard search paths\n"
     ]
    },
    {
     "data": {
      "text/plain": [
       "'e:\\\\02_Learn\\\\01_University\\\\Senior-1 Spring\\\\Current\\\\Parallel Computing\\\\Labs\\\\Des\\\\Input_Files/large_plaintext_encrypted_decrypted.txt'"
      ]
     },
     "execution_count": 2,
     "metadata": {},
     "output_type": "execute_result"
    }
   ],
   "source": [
    "# Profile encryption performance on a larger file\n",
    "compile_and_run_kernel(\"DES\", \"encrypt\", \"large_plaintext\", analytics=True)\n",
    "\n",
    "# Profile decryption performance\n",
    "compile_and_run_kernel(\"DES\", \"decrypt\", \"large_plaintext_encrypted\", analytics=True)"
   ]
  },
  {
   "cell_type": "markdown",
   "metadata": {},
   "source": [
    "***function to Compile and Run any file in folder code***"
   ]
  },
  {
   "cell_type": "code",
   "execution_count": 1,
   "metadata": {},
   "outputs": [],
   "source": [
    "def compile_and_run_kernel(name, mode, input_file_name, output_file_name=None, analytics=False):\n",
    "    import os\n",
    "    \n",
    "    # Get current working directory\n",
    "    cwd = os.getcwd()\n",
    "    print(f\"Current working directory: {cwd}\")\n",
    "    # Create paths\n",
    "    kernel_src = os.path.join(cwd, f\"code/{name}.cu\")\n",
    "    kernel_exe = os.path.join(cwd, f\"code/bin/{name}.exe\")\n",
    "    \n",
    "    # Ensure input and output file paths are correct\n",
    "    input_file = os.path.join(cwd, f\"Input_Files/{input_file_name}.txt\")\n",
    "    if output_file_name is None:\n",
    "        if mode == \"encrypt\":\n",
    "            output_file_name = f\"{input_file_name}_encrypted\"\n",
    "        else:  # decrypt mode\n",
    "            output_file_name = f\"{input_file_name}_decrypted\"\n",
    "    output_file = os.path.join(cwd, f\"Input_Files/{output_file_name}.txt\")\n",
    "    \n",
    "    # Create bin directory if it doesn't exist\n",
    "    os.makedirs(os.path.dirname(kernel_exe), exist_ok=True)\n",
    "    # Create output directory if it doesn't exist\n",
    "    os.makedirs(os.path.dirname(output_file), exist_ok=True)\n",
    "    \n",
    "    # Compile\n",
    "    !nvcc \"{kernel_src}\" -o \"{kernel_exe}\"\n",
    "    \n",
    "    # Run with analytics if requested, otherwise run normally\n",
    "    if analytics:\n",
    "        # Create analytics_Bin directory if it doesn't exist\n",
    "        analytics_dir = os.path.join(cwd, \"analytics_Bin\")\n",
    "        os.makedirs(analytics_dir, exist_ok=True)\n",
    "        \n",
    "        # Set profile output path inside analytics_Bin folder\n",
    "        profile_output = os.path.join(analytics_dir, f\"profile_{input_file_name}_{mode}\")\n",
    "        \n",
    "        # Run with nsys profiling\n",
    "        !nsys profile --sample=none --trace=cuda --force-overwrite=true --stats=true --output=\"{profile_output}\" \"{kernel_exe}\" \"{mode}\" \"{input_file}\" \"{output_file}\"\n",
    "        print(f\"Analytics data saved to {profile_output}\")\n",
    "    else:\n",
    "        # Run normally\n",
    "        !\"{kernel_exe}\" \"{mode}\" \"{input_file}\" \"{output_file}\"\n",
    "    \n",
    "    print(f\"{mode.capitalize()}ed file saved to {output_file}\")\n",
    "    return output_file\n",
    "\n",
    "# Example usage:\n",
    "# output = compile_and_run_kernel(\"DES\", \"encrypt\", \"plaintext\", analytics=True)"
   ]
  }
 ],
 "metadata": {
  "colab": {
   "provenance": []
  },
  "kaggle": {
   "accelerator": "gpu",
   "dataSources": [],
   "dockerImageVersionId": 30887,
   "isGpuEnabled": true,
   "isInternetEnabled": true,
   "language": "python",
   "sourceType": "notebook"
  },
  "kernelspec": {
   "display_name": "base",
   "language": "python",
   "name": "python3"
  },
  "language_info": {
   "codemirror_mode": {
    "name": "ipython",
    "version": 3
   },
   "file_extension": ".py",
   "mimetype": "text/x-python",
   "name": "python",
   "nbconvert_exporter": "python",
   "pygments_lexer": "ipython3",
   "version": "3.12.3"
  }
 },
 "nbformat": 4,
 "nbformat_minor": 4
}

{
 "cells": [
  {
   "cell_type": "markdown",
   "metadata": {},
   "source": [
    "# 1D Convolution Kernels and Report\n",
    "\n",
    "## Task Overview\n",
    "You are required to write three CUDA kernels that perform 1D convolution, along with a report analyzing their performance.\n",
    "\n",
    "### Kernel Implementations:\n",
    "1. **Kernel 1**: No tiling.\n",
    "2. **Kernel 2**: Uses output tiling.\n",
    "3. **Kernel 3**: Uses input tiling.\n",
    "\n",
    "## Report Requirements\n",
    "The report should compare the performance of the three kernels, highlighting differences in execution time and efficiency.\n",
    "\n",
    "## Command-Line Arguments\n",
    "Each kernel should accept three command-line arguments:\n",
    "- **Input file** (vector data)\n",
    "- **Mask file** (convolution mask)\n",
    "- **Output file** (resulting vector)\n",
    "\n",
    "### Example Usage:\n",
    "```bash\n",
    "./kernel1 inputfile.txt mask.txt outputfile.txt\n",
    "```\n",
    "\n",
    "## Input File Format\n",
    "The input file contains:\n",
    "1. An integer `N` (size of the vector).\n",
    "2. `N` float numbers representing the vector.\n",
    "\n",
    "**Example:**\n",
    "```\n",
    "5\n",
    "1 2 3 4 5\n",
    "```\n",
    "\n",
    "## Mask File Format\n",
    "The mask file contains:\n",
    "1. An integer `M` (size of the mask).\n",
    "2. `M` float numbers representing the mask.\n",
    "\n",
    "**Example:**\n",
    "```\n",
    "3\n",
    "0 1 0\n",
    "```\n",
    "\n",
    "## Output File Format\n",
    "The output file should contain `N` float numbers representing the resulting vector after convolution.\n",
    "\n",
    "**Example Output:**\n",
    "```\n",
    "1 2 3 4 5\n",
    "```\n",
    "\n",
    "## Submission\n",
    "Submit a compressed file named with your student code. The archive should contain:\n",
    "- The three CUDA kernel implementations.\n",
    "- The report analyzing their performance.\n",
    "---"
   ]
  },
  {
   "cell_type": "code",
   "execution_count": 11,
   "metadata": {},
   "outputs": [],
   "source": [
    "def compile_and_run_kernel(kernel_number, input_file_name, mask_file_name, analytics=False):\n",
    "    import os\n",
    "    \n",
    "    # Get current working directory\n",
    "    cwd = os.getcwd()\n",
    "    print(f\"Current working directory: {cwd}\")\n",
    "    # Create paths\n",
    "    kernel_src = os.path.join(cwd, f\"cuda_kernels/kernel{kernel_number}.cu\")\n",
    "    kernel_exe = os.path.join(cwd, f\"cuda_kernels/bin/kernel{kernel_number}.exe\")\n",
    "    \n",
    "    # Ensure input and mask file paths are correct\n",
    "    input_file = os.path.join(cwd, f\"Input_TestCases/{input_file_name}.txt\")\n",
    "    mask_file = os.path.join(cwd, f\"Input_TestCases/{mask_file_name}.txt\")\n",
    "    \n",
    "    # Create output file path\n",
    "    output_file = os.path.join(cwd, f\"Output_TestCases/{input_file_name}_mask{mask_file_name}_k{kernel_number}_o.txt\")\n",
    "    \n",
    "    # Create bin directory if it doesn't exist\n",
    "    os.makedirs(os.path.dirname(kernel_exe), exist_ok=True)\n",
    "    \n",
    "    # Compile\n",
    "    !nvcc \"{kernel_src}\" -o \"{kernel_exe}\"\n",
    "    \n",
    "    # Run with analytics if requested, otherwise run normally\n",
    "    if analytics:\n",
    "        # Create analytics_Bin directory if it doesn't exist\n",
    "        analytics_dir = os.path.join(cwd, \"analytics_Bin\")\n",
    "        os.makedirs(analytics_dir, exist_ok=True)\n",
    "        \n",
    "        # Set profile output path inside analytics_Bin folder\n",
    "        profile_output = os.path.join(analytics_dir, f\"profile_k{kernel_number}_{input_file_name}_mask{mask_file_name}\")\n",
    "        \n",
    "        # Run with nsys profiling\n",
    "        !nsys profile --sample=none --trace=cuda --force-overwrite=true --stats=true --output=\"{profile_output}\" \"{kernel_exe}\" \"{input_file}\" \"{mask_file}\" \"{output_file}\"\n",
    "        print(f\"Analytics data saved to {profile_output}\")\n",
    "    else:\n",
    "        # Run normally\n",
    "        !\"{kernel_exe}\" \"{input_file}\" \"{mask_file}\" \"{output_file}\"\n",
    "    \n",
    "    return output_file\n",
    "\n",
    "# Example usage:\n",
    "# output = compile_and_run_kernel(1, \"vector1\", \"mask1\")\n",
    "# output = compile_and_run_kernel(2, \"vector2\", \"mask2\", analytics=True)"
   ]
  },
  {
   "cell_type": "markdown",
   "metadata": {},
   "source": [
    "### **Requriment - 1**\n",
    "- Use only 1 block for your kernel and let the CPU handle the final sum.\n"
   ]
  },
  {
   "cell_type": "code",
   "execution_count": 12,
   "metadata": {},
   "outputs": [
    {
     "name": "stdout",
     "output_type": "stream",
     "text": [
      "Current working directory: e:\\02_Learn\\01_University\\Senior-1 Spring\\Current\\Parallel Computing\\Labs\\Lab_4\\Solution\n",
      "kernel1.cu\n",
      "tmpxft_00003db0_00000000-10_kernel1.cudafe1.cpp\n",
      "   Creating library e:\\02_Learn\\01_University\\Senior-1 Spring\\Current\\Parallel Computing\\Labs\\Lab_4\\Solution\\cuda_kernels\\bin\\kernel1.lib and object e:\\02_Learn\\01_University\\Senior-1 Spring\\Current\\Parallel Computing\\Labs\\Lab_4\\Solution\\cuda_kernels\\bin\\kernel1.exp\n",
      "Kernel execution time: 193.121000 ms\n"
     ]
    },
    {
     "data": {
      "text/plain": [
       "'e:\\\\02_Learn\\\\01_University\\\\Senior-1 Spring\\\\Current\\\\Parallel Computing\\\\Labs\\\\Lab_4\\\\Solution\\\\Output_TestCases/t1_maskm1_k1_o.txt'"
      ]
     },
     "execution_count": 12,
     "metadata": {},
     "output_type": "execute_result"
    }
   ],
   "source": [
    "compile_and_run_kernel(1, \"t1\", \"m1\", analytics=False)"
   ]
  },
  {
   "cell_type": "markdown",
   "metadata": {},
   "source": [
    "### **Requriment - 2**\n",
    "- Use only 1 block for your kernal and let one thread to handle the final sum.\n"
   ]
  },
  {
   "cell_type": "code",
   "execution_count": 13,
   "metadata": {},
   "outputs": [
    {
     "name": "stdout",
     "output_type": "stream",
     "text": [
      "Current working directory: e:\\02_Learn\\01_University\\Senior-1 Spring\\Current\\Parallel Computing\\Labs\\Lab_4\\Solution\n",
      "kernel2.cu\n",
      "tmpxft_000064f4_00000000-10_kernel2.cudafe1.cpp\n",
      "   Creating library e:\\02_Learn\\01_University\\Senior-1 Spring\\Current\\Parallel Computing\\Labs\\Lab_4\\Solution\\cuda_kernels\\bin\\kernel2.lib and object e:\\02_Learn\\01_University\\Senior-1 Spring\\Current\\Parallel Computing\\Labs\\Lab_4\\Solution\\cuda_kernels\\bin\\kernel2.exp\n",
      "Kernel execution time: 48.191000 ms\n"
     ]
    },
    {
     "data": {
      "text/plain": [
       "'e:\\\\02_Learn\\\\01_University\\\\Senior-1 Spring\\\\Current\\\\Parallel Computing\\\\Labs\\\\Lab_4\\\\Solution\\\\Output_TestCases/t1_maskm1_k2_o.txt'"
      ]
     },
     "execution_count": 13,
     "metadata": {},
     "output_type": "execute_result"
    }
   ],
   "source": [
    "compile_and_run_kernel(2, \"t1\", \"m1\", analytics=False)"
   ]
  },
  {
   "cell_type": "markdown",
   "metadata": {},
   "source": [
    "### **Requriment - 3**\n",
    "- Use multiple blocks for your kernal and let the CPU handle the final sum.\n"
   ]
  },
  {
   "cell_type": "code",
   "execution_count": 14,
   "metadata": {},
   "outputs": [
    {
     "name": "stdout",
     "output_type": "stream",
     "text": [
      "Current working directory: e:\\02_Learn\\01_University\\Senior-1 Spring\\Current\\Parallel Computing\\Labs\\Lab_4\\Solution\n",
      "e:\\02_Learn\\01_University\\Senior-1 Spring\\Current\\Parallel Computing\\Labs\\Lab_4\\Solution\\cuda_kernels\\kernel3.cu(17): warning #177-D: variable \"halo_right_idx\" was declared but never referenced\n",
      "      int halo_right_idx = (blockIdx.x + 1) * blockDim.x + maskRadius - 1;\n",
      "          ^\n",
      "\n",
      "Remark: The warnings can be suppressed with \"-diag-suppress <warning-number>\"\n",
      "\n",
      "e:\\02_Learn\\01_University\\Senior-1 Spring\\Current\\Parallel Computing\\Labs\\Lab_4\\Solution\\cuda_kernels\\kernel3.cu(18): warning #177-D: variable \"shared_mem_size\" was declared but never referenced\n",
      "      int shared_mem_size = tile_size + 2 * maskRadius;\n",
      "          ^\n",
      "\n",
      "kernel3.cu\n",
      "tmpxft_00003b90_00000000-10_kernel3.cudafe1.cpp\n",
      "   Creating library e:\\02_Learn\\01_University\\Senior-1 Spring\\Current\\Parallel Computing\\Labs\\Lab_4\\Solution\\cuda_kernels\\bin\\kernel3.lib and object e:\\02_Learn\\01_University\\Senior-1 Spring\\Current\\Parallel Computing\\Labs\\Lab_4\\Solution\\cuda_kernels\\bin\\kernel3.exp\n",
      "Kernel execution time: 62.043000 ms\n"
     ]
    },
    {
     "data": {
      "text/plain": [
       "'e:\\\\02_Learn\\\\01_University\\\\Senior-1 Spring\\\\Current\\\\Parallel Computing\\\\Labs\\\\Lab_4\\\\Solution\\\\Output_TestCases/t1_maskm1_k3_o.txt'"
      ]
     },
     "execution_count": 14,
     "metadata": {},
     "output_type": "execute_result"
    }
   ],
   "source": [
    "compile_and_run_kernel(3, \"t1\", \"m1\", analytics=False)"
   ]
  }
 ],
 "metadata": {
  "colab": {
   "provenance": []
  },
  "kaggle": {
   "accelerator": "gpu",
   "dataSources": [],
   "dockerImageVersionId": 30887,
   "isGpuEnabled": true,
   "isInternetEnabled": true,
   "language": "python",
   "sourceType": "notebook"
  },
  "kernelspec": {
   "display_name": "base",
   "language": "python",
   "name": "python3"
  },
  "language_info": {
   "codemirror_mode": {
    "name": "ipython",
    "version": 3
   },
   "file_extension": ".py",
   "mimetype": "text/x-python",
   "name": "python",
   "nbconvert_exporter": "python",
   "pygments_lexer": "ipython3",
   "version": "3.12.3"
  }
 },
 "nbformat": 4,
 "nbformat_minor": 4
}

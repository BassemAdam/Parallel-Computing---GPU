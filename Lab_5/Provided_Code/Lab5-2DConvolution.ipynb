{
 "cells": [
  {
   "cell_type": "markdown",
   "metadata": {
    "id": "SACSa2bT_vc7"
   },
   "source": [
    "### **Cuda Programming Applications**\n",
    "\n",
    "This mini-lab targets some hands-on implementations and more practice on cuda in common real-world recurring tasks. Moreover, we aim to compare the outcomes of our low-level implementations with the built-in functions in popular frameworks as Pytorch. We'll revisit how you can fool cuda by passing a 2D array (for easier indexing)! Then we'll go straight to implement our Conv3D kernel function!"
   ]
  },
  {
   "cell_type": "markdown",
   "metadata": {
    "id": "9DU7eXap6ZpW"
   },
   "source": [
    "### **Requirement**\n",
    "\n",
    "A) A cuda program is required to carry out a 3D convolution over RGB images and save the output ones, the program is given a path to a folder containing the input images and that of an output folder that should contain the outputs, respectively as command line arguments.\n",
    "\n",
    "1.   kernel1: basic implementation (no tiling)\n",
    "2.   kernel2: tiling where each block matches the input tile size.\n",
    "3.   kernel3: tiling where each block matches the output tile size.\n",
    "\n",
    "Notes:\n",
    "*   Add necessary paddings so that the output image size is the same as that of the input one if stride = 1;\n",
    "\n",
    "*   The kernel should be able to handle a batch of images at a time, the batch size is passed as the 3rd argument.\n",
    "*   The mask is given in a .txt file, whose path is passed as the 4th argument. The first line contains its dimension n (one number only as it's a square mask) then the consecutive n lines contain the mask rows, each row in a separate line. Repeat the mask 3 times for the 3 channels of the image.\n",
    "* (BOUNS) handle different values of stride than 1\n",
    "\n",
    "  Ex: ./a.out input_folder_path output_folder_path 4 mask.txt stride\n",
    "\n",
    "B) Implement the same program in python, using the built-in convolution functions in Pytorch.\n",
    "\n",
    "C) Profile each program carefully and do sufficient experiments to compare between them and collect insightful results. Organise your results in a tabular form and prepare a comprehensive report explaining all of your findings. Also mention the impact of declaring the mask as constant in terms of execution time and elaborate on this in your report."
   ]
  },
  {
   "cell_type": "markdown",
   "metadata": {
    "id": "Lc-0dlsfvh1n"
   },
   "source": [
    "#### **Helpers**\n",
    "\n",
    "This section contains some helpers that could be needed for the requirement. Check it frequently.\n",
    "\n",
    "**Helper1**: Read RGB images in C"
   ]
  },
  {
   "cell_type": "code",
   "execution_count": null,
   "metadata": {
    "colab": {
     "base_uri": "https://localhost:8080/"
    },
    "id": "JCT_z26pv281",
    "outputId": "26a289f0-1e9f-4264-810b-504d74b89d5b"
   },
   "outputs": [
    {
     "name": "stdout",
     "output_type": "stream",
     "text": [
      "Cloning into 'stb'...\n",
      "remote: Enumerating objects: 8031, done.\u001b[K\n",
      "remote: Counting objects: 100% (163/163), done.\u001b[K\n",
      "remote: Compressing objects: 100% (84/84), done.\u001b[K\n",
      "remote: Total 8031 (delta 99), reused 104 (delta 78), pack-reused 7868\u001b[K\n",
      "Receiving objects: 100% (8031/8031), 5.59 MiB | 12.25 MiB/s, done.\n",
      "Resolving deltas: 100% (5324/5324), done.\n"
     ]
    }
   ],
   "source": [
    "# Fetch stb_image library\n",
    "\n",
    "!git clone https://github.com/nothings/stb.git\n",
    "!cp stb/stb_image.h /usr/local/include/"
   ]
  },
  {
   "cell_type": "code",
   "execution_count": null,
   "metadata": {
    "colab": {
     "base_uri": "https://localhost:8080/"
    },
    "id": "rMC7DrRHwgsd",
    "outputId": "a93a1f79-7676-46ca-f676-43baf3bc3a79"
   },
   "outputs": [
    {
     "name": "stdout",
     "output_type": "stream",
     "text": [
      "Overwriting read_image.c\n"
     ]
    }
   ],
   "source": [
    "# Read the image dimensions and pixels\n",
    "\n",
    "%%writefile read_image.c\n",
    "#define STB_IMAGE_IMPLEMENTATION\n",
    "\n",
    "#include <stdio.h>\n",
    "#include \"stb_image.h\"\n",
    "\n",
    "const size_t NUM_PIXELS_TO_PRINT = 10;\n",
    "\n",
    "int main(void) {\n",
    "    int width, height, comp;\n",
    "    unsigned char *data = stbi_load(\"image.jpeg\", &width, &height, &comp, 0);\n",
    "    if (data) {\n",
    "        printf(\"width = %d, height = %d, comp = %d (channels)\\n\", width, height, comp);\n",
    "        for (size_t i = 0; i < NUM_PIXELS_TO_PRINT * comp; i++) {\n",
    "            printf(\"%d%s\", data[i], ((i + 1) % comp) ? \" \" : \"\\n\");\n",
    "        }\n",
    "        printf(\"\\n\");\n",
    "    }\n",
    "    return 0;\n",
    "}"
   ]
  },
  {
   "cell_type": "code",
   "execution_count": null,
   "metadata": {
    "colab": {
     "base_uri": "https://localhost:8080/"
    },
    "id": "w6kZE3q6zcqX",
    "outputId": "b9447446-b5a8-4f13-acd4-a5dc94efed1b"
   },
   "outputs": [
    {
     "name": "stdout",
     "output_type": "stream",
     "text": [
      "width = 989, height = 1280, comp = 3 (channels)\n",
      "153 161 161\n",
      "153 161 161\n",
      "153 161 161\n",
      "153 161 161\n",
      "153 161 161\n",
      "153 161 161\n",
      "153 161 161\n",
      "153 161 161\n",
      "152 160 160\n",
      "152 160 160\n",
      "\n"
     ]
    }
   ],
   "source": [
    "!g++ read_image.c -o readImage.out\n",
    "!./readImage.out"
   ]
  }
 ],
 "metadata": {
  "colab": {
   "provenance": []
  },
  "kernelspec": {
   "display_name": "Python 3",
   "name": "python3"
  },
  "language_info": {
   "name": "python"
  }
 },
 "nbformat": 4,
 "nbformat_minor": 0
}

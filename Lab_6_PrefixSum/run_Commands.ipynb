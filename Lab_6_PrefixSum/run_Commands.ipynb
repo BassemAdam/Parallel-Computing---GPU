{
 "cells": [
  {
   "cell_type": "markdown",
   "id": "32e5c2dc",
   "metadata": {},
   "source": [
    "# Prefix Sum Algorithm"
   ]
  },
  {
   "cell_type": "markdown",
   "id": "3a392c5b",
   "metadata": {},
   "source": [
    "helper function \n",
    "-run code\n",
    "-test two files identical"
   ]
  },
  {
   "cell_type": "code",
   "execution_count": 1,
   "id": "2de52c48",
   "metadata": {},
   "outputs": [],
   "source": [
    "def compile_and_run_kernel(kernel_number, input_file_name, analytics=False):\n",
    "    import os\n",
    "    \n",
    "    # Get current working directory\n",
    "    cwd = os.getcwd()\n",
    "    # print(f\"Current working directory: {cwd}\")\n",
    "    \n",
    "    # Create paths\n",
    "    kernel_src = os.path.join(cwd, f\"cuda_kernels/kernel{kernel_number}.cu\")\n",
    "    kernel_exe = os.path.join(cwd, f\"cuda_kernels/bin/kernel{kernel_number}.exe\")\n",
    "    \n",
    "    # Ensure input file path is correct\n",
    "    input_file = os.path.join(cwd, f\"Generator_TestCases/PrefixSum/{input_file_name}.txt\")\n",
    "    \n",
    "    # Create output file path\n",
    "    output_file = os.path.join(cwd, f\"Output_TestCases/{input_file_name}_k{kernel_number}_o.txt\")\n",
    "    \n",
    "    # Create bin directory if it doesn't exist\n",
    "    os.makedirs(os.path.dirname(kernel_exe), exist_ok=True)\n",
    "    \n",
    "    # Compile the CUDA kernel\n",
    "    !nvcc \"{kernel_src}\" -o \"{kernel_exe}\"\n",
    "    \n",
    "    # Run with analytics if requested, otherwise run normally\n",
    "    if analytics:\n",
    "        # Create analytics_Bin directory if it doesn't exist\n",
    "        analytics_dir = os.path.join(cwd, \"analytics_Bin\")\n",
    "        os.makedirs(analytics_dir, exist_ok=True)\n",
    "        \n",
    "        # Set profile output path inside analytics_Bin folder\n",
    "        profile_output = os.path.join(analytics_dir, f\"profile_k{kernel_number}_{input_file_name}\")\n",
    "        \n",
    "        # Run with nsys profiling\n",
    "        !nsys profile --sample=none --trace=cuda --force-overwrite=true --stats=true --output=\"{profile_output}\" \"{kernel_exe}\" \"{input_file}\" \"{output_file}\"\n",
    "        print(f\"Analytics data saved to {profile_output}\")\n",
    "    else:\n",
    "        # Run normally\n",
    "        !\"{kernel_exe}\" \"{input_file}\" \"{output_file}\"\n",
    "    \n",
    "    return output_file\n",
    "\n",
    "# Example usage:\n",
    "# output = compile_and_run_kernel(1, \"vector1\")\n",
    "# output = compile_and_run_kernel(2, \"vector2\", analytics=True)"
   ]
  },
  {
   "cell_type": "code",
   "execution_count": 3,
   "id": "64db2f2f",
   "metadata": {},
   "outputs": [],
   "source": [
    "def compare_files(input_file_name, output_file_name, tolerance=1):\n",
    "    \"\"\"\n",
    "    Compare two files line by line and token by token, allowing a numeric tolerance for floats.\n",
    "\n",
    "    Parameters:\n",
    "    - input_file_name: Expected output file in Generator_TestCases/PrefixSum.\n",
    "    - output_file_name: Actual output file in Output_TestCases.\n",
    "    - tolerance: Allowed numeric difference between corresponding float values.\n",
    "\n",
    "    Returns:\n",
    "    - True if the files match within the given tolerance, False otherwise.\n",
    "    \"\"\"\n",
    "    import os\n",
    "\n",
    "    cwd = os.getcwd()\n",
    "    input_file_path = os.path.join(cwd, \"Generator_TestCases/PrefixSum\", input_file_name)\n",
    "    output_file_path = os.path.join(cwd, \"Output_TestCases\", output_file_name)\n",
    "\n",
    "    try:\n",
    "        with open(input_file_path, 'r') as input_file, open(output_file_path, 'r') as output_file:\n",
    "            input_lines = input_file.read().strip().splitlines()\n",
    "            output_lines = output_file.read().strip().splitlines()\n",
    "\n",
    "            if len(input_lines) != len(output_lines):\n",
    "                print(f\"❌ Line count mismatch: {len(input_lines)} vs {len(output_lines)}\")\n",
    "                return False\n",
    "\n",
    "            for i, (in_line, out_line) in enumerate(zip(input_lines, output_lines), start=1):\n",
    "                in_tokens = in_line.split()\n",
    "                out_tokens = out_line.split()\n",
    "\n",
    "                if len(in_tokens) != len(out_tokens):\n",
    "                    print(f\"❌ Token count mismatch on line {i}: {in_tokens} vs {out_tokens}\")\n",
    "                    return False\n",
    "\n",
    "                for j, (a, b) in enumerate(zip(in_tokens, out_tokens)):\n",
    "                    try:\n",
    "                        a_num = float(a)\n",
    "                        b_num = float(b)\n",
    "                        if abs(a_num - b_num) > tolerance:\n",
    "                            print(f\"❌ Value mismatch on line {i}, token {j+1}: {a_num} vs {b_num}\")\n",
    "                            return False\n",
    "                    except ValueError:\n",
    "                        if a != b:\n",
    "                            print(f\"❌ Non-numeric mismatch on line {i}, token {j+1}: '{a}' vs '{b}'\")\n",
    "                            return False\n",
    "\n",
    "        print(f\"✅ Test case passed: {input_file_name} matches {output_file_name} within tolerance {tolerance}\")\n",
    "        return True\n",
    "\n",
    "    except FileNotFoundError as e:\n",
    "        print(f\"❌ Error: {e}\")\n",
    "        return False\n"
   ]
  },
  {
   "cell_type": "markdown",
   "id": "f1c7c365",
   "metadata": {},
   "source": [
    "## Requirement 1: Compare Work-Efficient and Work-Inefficient Implementations\n",
    "- Implement both work-efficient and work-inefficient versions of the prefix sum algorithm using CUDA."
   ]
  },
  {
   "cell_type": "code",
   "execution_count": 37,
   "id": "a32b9f7d",
   "metadata": {},
   "outputs": [
    {
     "name": "stdout",
     "output_type": "stream",
     "text": [
      "kernel1.cu\n",
      "tmpxft_000020b8_00000000-10_kernel1.cudafe1.cpp\n",
      "   Creating library e:\\02_Learn\\01_University\\Senior-1 Spring\\Current\\Parallel Computing\\Labs\\Lab_6_PrefixSum\\cuda_kernels\\bin\\kernel1.lib and object e:\\02_Learn\\01_University\\Senior-1 Spring\\Current\\Parallel Computing\\Labs\\Lab_6_PrefixSum\\cuda_kernels\\bin\\kernel1.exp\n",
      "✅ Test case passed: prefixsum_v1000000_expected_output.txt matches prefixsum_v1000000_input_k1_o.txt within tolerance 1\n"
     ]
    },
    {
     "data": {
      "text/plain": [
       "True"
      ]
     },
     "execution_count": 37,
     "metadata": {},
     "output_type": "execute_result"
    }
   ],
   "source": [
    "# Work efficient Prefix Sum\n",
    "compile_and_run_kernel(1, \"prefixsum_v1000000_input\", analytics=False)\n",
    "compare_files(\"prefixsum_v1000000_expected_output.txt\", \"prefixsum_v1000000_input_k1_o.txt\",tolerance=1)\n",
    "\n",
    "# Work Inefficient Prefix Sum \n",
    "# compile_and_run_kernel(2, \"prefixsum_v1000000_input\", analytics=False)\n",
    "# compare_files(\"prefixsum_v1000000_expected_output.txt\", \"prefixsum_v1000000_input_k2_o.txt\",tolerance=1)"
   ]
  },
  {
   "cell_type": "markdown",
   "id": "57333717",
   "metadata": {},
   "source": [
    "## Requirement 2: Compare Work-Efficient Algorithm Using Different Memory Types\n",
    "- Evaluate the performance of the work-efficient algorithm with the following memory types:\n",
    "  - Pageable Memory\n",
    "  - Unified Memory\n",
    "  - Zero-Copy Memory\n",
    "  - Pinned Memory"
   ]
  },
  {
   "cell_type": "code",
   "execution_count": 54,
   "id": "61e04ce2",
   "metadata": {},
   "outputs": [
    {
     "name": "stdout",
     "output_type": "stream",
     "text": [
      "kernel3.cu\n",
      "tmpxft_00002cb0_00000000-10_kernel3.cudafe1.cpp\n",
      "   Creating library e:\\02_Learn\\01_University\\Senior-1 Spring\\Current\\Parallel Computing\\Labs\\Lab_6_PrefixSum\\cuda_kernels\\bin\\kernel3.lib and object e:\\02_Learn\\01_University\\Senior-1 Spring\\Current\\Parallel Computing\\Labs\\Lab_6_PrefixSum\\cuda_kernels\\bin\\kernel3.exp\n",
      "=== Memory Type Performance Comparison ===\n",
      "Input size: 1000000 elements\n",
      "\n",
      "Running benchmarks (1 runs each)...\n",
      "\n",
      "Results (average time in milliseconds):\n",
      "Pageable memory: 0.000 ms\n",
      "Pinned memory:   0.000 ms\n",
      "Unified memory:  231.704 ms\n",
      "Zero-copy memory: 0.000 ms\n",
      "\n",
      "Speedups relative to pageable memory:\n",
      "Pinned memory:   -nan(ind)x\n",
      "Unified memory:  0.00x\n",
      "Zero-copy memory: -nan(ind)x\n",
      "✅ Test case passed: prefixsum_v1000000_expected_output.txt matches prefixsum_v1000000_input_k3_o.txt within tolerance 1\n"
     ]
    },
    {
     "data": {
      "text/plain": [
       "True"
      ]
     },
     "execution_count": 54,
     "metadata": {},
     "output_type": "execute_result"
    }
   ],
   "source": [
    "# Example: Compile and run kernel 2 for work-efficient implementation with pageable memory\n",
    "compile_and_run_kernel(3, \"prefixsum_v1000000_input\", analytics=False)\n",
    "compare_files(\"prefixsum_v1000000_expected_output.txt\", \"prefixsum_v1000000_input_k3_o.txt\",tolerance=1)"
   ]
  },
  {
   "cell_type": "markdown",
   "id": "7324f35e",
   "metadata": {},
   "source": [
    "## Requirement 3: Use Streams to Distribute Data\n",
    "- Implement the prefix sum algorithm using CUDA streams to distribute data among multiple streams."
   ]
  },
  {
   "cell_type": "code",
   "execution_count": null,
   "id": "ccf7555a",
   "metadata": {},
   "outputs": [],
   "source": [
    "# Example: Compile and run kernel 2 for work-efficient implementation with pageable memory\n",
    "compile_and_run_kernel(4, \"prefixsum_v1000000_input\", analytics=False)\n",
    "compare_files(\"prefixsum_v1000000_expected_output.txt\", \"prefixsum_v1000000_input_k4_o.txt\",tolerance=1)"
   ]
  },
  {
   "cell_type": "markdown",
   "id": "6fa1a66a",
   "metadata": {},
   "source": [
    "## Bonus: Compare Thread Coarsening vs. Streams\n",
    "- Compare the performance of thread coarsening and using CUDA streams."
   ]
  },
  {
   "cell_type": "code",
   "execution_count": 62,
   "id": "6ff0d225",
   "metadata": {},
   "outputs": [
    {
     "name": "stdout",
     "output_type": "stream",
     "text": [
      "kernel5.cu\n",
      "tmpxft_00000ce4_00000000-10_kernel5.cudafe1.cpp\n",
      "   Creating library e:\\02_Learn\\01_University\\Senior-1 Spring\\Current\\Parallel Computing\\Labs\\Lab_6_PrefixSum\\cuda_kernels\\bin\\kernel5.lib and object e:\\02_Learn\\01_University\\Senior-1 Spring\\Current\\Parallel Computing\\Labs\\Lab_6_PrefixSum\\cuda_kernels\\bin\\kernel5.exp\n",
      "Thread coarsened execution time (factor=4): 1 ms\n",
      "✅ Test case passed: prefixsum_v1000000_expected_output.txt matches prefixsum_v1000000_input_k5_o.txt within tolerance 1\n"
     ]
    },
    {
     "data": {
      "text/plain": [
       "True"
      ]
     },
     "execution_count": 62,
     "metadata": {},
     "output_type": "execute_result"
    }
   ],
   "source": [
    "# Example: Compile and run kernel 2 for work-efficient implementation with pageable memory\n",
    "compile_and_run_kernel(5, \"prefixsum_v1000000_input\", analytics=False)\n",
    "compare_files(\"prefixsum_v1000000_expected_output.txt\", \"prefixsum_v1000000_input_k5_o.txt\",tolerance=1)"
   ]
  }
 ],
 "metadata": {
  "kernelspec": {
   "display_name": "base",
   "language": "python",
   "name": "python3"
  },
  "language_info": {
   "codemirror_mode": {
    "name": "ipython",
    "version": 3
   },
   "file_extension": ".py",
   "mimetype": "text/x-python",
   "name": "python",
   "nbconvert_exporter": "python",
   "pygments_lexer": "ipython3",
   "version": "3.12.3"
  }
 },
 "nbformat": 4,
 "nbformat_minor": 5
}

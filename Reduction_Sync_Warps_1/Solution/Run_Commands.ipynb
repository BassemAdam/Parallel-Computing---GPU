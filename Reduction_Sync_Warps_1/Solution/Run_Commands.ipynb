{
 "cells": [
  {
   "cell_type": "code",
   "execution_count": 6,
   "metadata": {},
   "outputs": [],
   "source": [
    "def compile_and_run_kernel(kernel_number, test_case, analytics=False):\n",
    "    import os\n",
    "    \n",
    "    # Get current working directory\n",
    "    cwd = os.getcwd()\n",
    "    \n",
    "    # Create paths\n",
    "    kernel_src = os.path.join(cwd, f\"cuda_kernels/kernel{kernel_number}.cu\")\n",
    "    kernel_exe = os.path.join(cwd, f\"cuda_kernels/bin/kernel{kernel_number}.exe\")\n",
    "    input_file = os.path.join(cwd, f\"Input_TestCases/{test_case}.txt\")\n",
    "    output_file = os.path.join(cwd, f\"Output_TestCases/{test_case}_k{kernel_number}_o.txt\")\n",
    "    \n",
    "    # Compile\n",
    "    !nvcc \"{kernel_src}\" -o \"{kernel_exe}\"\n",
    "    \n",
    "     # Run with analytics if requested, otherwise run normally\n",
    "    if analytics:\n",
    "        # Create analytics_Bin directory if it doesn't exist\n",
    "        analytics_dir = os.path.join(cwd, \"analytics_Bin\")\n",
    "        os.makedirs(analytics_dir, exist_ok=True)\n",
    "        \n",
    "        # Set profile output path inside analytics_Bin folder\n",
    "        profile_output = os.path.join(analytics_dir, f\"profile_k{kernel_number}_{test_case}\")\n",
    "        \n",
    "        # Run with nsys profiling\n",
    "        !nsys profile --sample=none --trace=cuda --force-overwrite=true --stats=true --output=\"{profile_output}\" \"{kernel_exe}\" \"{input_file}\" \"{output_file}\"\n",
    "        print(f\"Analytics data saved to {profile_output}\")\n",
    "    else:\n",
    "        # Run normally\n",
    "        !\"{kernel_exe}\" \"{input_file}\" \"{output_file}\"\n",
    "    \n",
    "    return output_file"
   ]
  },
  {
   "cell_type": "markdown",
   "metadata": {},
   "source": [
    "### **Requriment - 1**\n",
    "- Without using warp synchronization\n"
   ]
  },
  {
   "cell_type": "code",
   "execution_count": null,
   "metadata": {},
   "outputs": [],
   "source": [
    "\n",
    "compile_and_run_kernel(1, \"max_element_tests\", analytics=True)"
   ]
  },
  {
   "cell_type": "markdown",
   "metadata": {},
   "source": [
    "### **Requriment - 2**\n",
    "-  With using warp synchronization\n"
   ]
  },
  {
   "cell_type": "code",
   "execution_count": null,
   "metadata": {},
   "outputs": [
    {
     "name": "stdout",
     "output_type": "stream",
     "text": [
      "kernel2.cu\n",
      "tmpxft_00005e2c_00000000-10_kernel2.cudafe1.cpp\n",
      "   Creating library e:\\02_Learn\\01_University\\Senior-1 Spring\\Current\\Parallel Computing\\Labs\\Reduction_Sync_Warps_1\\Solution\\cuda_kernels\\bin\\kernel2.lib and object e:\\02_Learn\\01_University\\Senior-1 Spring\\Current\\Parallel Computing\\Labs\\Reduction_Sync_Warps_1\\Solution\\cuda_kernels\\bin\\kernel2.exp\n",
      "Read 4 elements from input file\n",
      "Launching max element finder kernel with grid size 1, block size 256\n"
     ]
    },
    {
     "data": {
      "text/plain": [
       "'e:\\\\02_Learn\\\\01_University\\\\Senior-1 Spring\\\\Current\\\\Parallel Computing\\\\Labs\\\\Reduction_Sync_Warps_1\\\\Solution\\\\Output_TestCases/inputfile_k2_o.txt'"
      ]
     },
     "execution_count": 3,
     "metadata": {},
     "output_type": "execute_result"
    }
   ],
   "source": [
    "\n",
    "compile_and_run_kernel(2, \"max_element_tests\", analytics=True)"
   ]
  }
 ],
 "metadata": {
  "colab": {
   "provenance": []
  },
  "kaggle": {
   "accelerator": "gpu",
   "dataSources": [],
   "dockerImageVersionId": 30887,
   "isGpuEnabled": true,
   "isInternetEnabled": true,
   "language": "python",
   "sourceType": "notebook"
  },
  "kernelspec": {
   "display_name": "base",
   "language": "python",
   "name": "python3"
  },
  "language_info": {
   "codemirror_mode": {
    "name": "ipython",
    "version": 3
   },
   "file_extension": ".py",
   "mimetype": "text/x-python",
   "name": "python",
   "nbconvert_exporter": "python",
   "pygments_lexer": "ipython3",
   "version": "3.12.3"
  }
 },
 "nbformat": 4,
 "nbformat_minor": 4
}
